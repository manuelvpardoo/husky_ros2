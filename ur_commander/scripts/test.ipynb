{
 "cells": [
  {
   "cell_type": "code",
   "execution_count": 1,
   "metadata": {},
   "outputs": [],
   "source": [
    "from threading import Thread\n",
    "from math import pi\n",
    "\n",
    "import rclpy\n",
    "from rclpy.callback_groups import ReentrantCallbackGroup\n",
    "from rclpy.node import Node\n",
    "\n",
    "from pymoveit2 import MoveIt2\n",
    "from pymoveit2.robots import ur\n",
    "\n",
    "from geometry_msgs.msg import Pose, Quaternion, Point\n",
    "import rclpy.wait_for_message   \n",
    "from ur_msgs.srv import SetIO\n",
    "from ur_commander.srv import VisualizePoses\n",
    "\n",
    "rclpy.init()\n",
    "\n",
    "# Create node for this example\n",
    "node = Node(\"notebook_example\")\n",
    "callback_group = ReentrantCallbackGroup()\n",
    "\n",
    "\n",
    "def display_poses(poses: list[Pose], frame_id: str = \"ur_base_link\") -> None:\n",
    "    client = node.create_client(VisualizePoses, \"/visualize_poses\")\n",
    "    while not client.wait_for_service(timeout_sec=1.0):\n",
    "        node.get_logger().info(\"service not available, waiting again...\")\n",
    "    client.call(VisualizePoses.Request(poses=poses, frame_id=frame_id))\n",
    "\n",
    "\n",
    "moveit2 = MoveIt2(\n",
    "    node=node,\n",
    "    joint_names=ur.joint_names(),\n",
    "    base_link_name=ur.base_link_name(),\n",
    "    end_effector_name=ur.end_effector_name(),\n",
    "    group_name=ur.MOVE_GROUP_ARM,\n",
    "    callback_group=callback_group,\n",
    ")\n",
    "\n",
    "# Spin the node in background thread(s) and wait a bit for initialization\n",
    "executor = rclpy.executors.MultiThreadedExecutor(2)\n",
    "executor.add_node(node)\n",
    "executor_thread = Thread(target=executor.spin, daemon=True, args=())\n",
    "executor_thread.start()\n",
    "node.create_rate(1.0).sleep()\n",
    "\n",
    "# Scale down velocity and acceleration of joints (percentage of maximum)\n",
    "moveit2.max_velocity = 0.2\n",
    "moveit2.max_acceleration = 0.1\n",
    "synchronous = True\n",
    "cancel_after_secs = 0.0\n",
    "cartesian = False\n",
    "cartesian_max_step = 0.0025\n",
    "cartesian_fraction_threshold = 0.0\n",
    "cartesian_jump_threshold = 0.0\n",
    "cartesian_avoid_collisions = False\n",
    "moveit2.planner_id = \"PTP\"\n",
    "\n",
    "# Add collision objects\n",
    "moveit2.add_collision_box(\n",
    "    id=\"table\",\n",
    "    size=[2.0, 1.0, 0.05],\n",
    "    position=[0.0, 0.0, -0.025],\n",
    "    quat_xyzw=[0.0, 0.0, 0.0, 0.0],\n",
    ")\n",
    "\n",
    "# Add collision objects\n",
    "moveit2.add_collision_box(\n",
    "    id=\"table\",\n",
    "    size=[2.0, 1.0, 0.05],\n",
    "    position=[0.0, 0.0, -0.025],\n",
    "    quat_xyzw=[0.0, 0.0, 0.0, 0.0],\n",
    ")"
   ]
  },
  {
   "cell_type": "markdown",
   "metadata": {},
   "source": [
    "**Define Joint Position**   \n",
    "\n",
    "Forward kinematics, a trajectory will be planned"
   ]
  },
  {
   "cell_type": "code",
   "execution_count": 4,
   "metadata": {},
   "outputs": [
    {
     "name": "stderr",
     "output_type": "stream",
     "text": [
      "[INFO] [1733412876.666953828] [notebook_example]: Moving to home position\n"
     ]
    }
   ],
   "source": [
    "home_position = [0.0, -pi / 2, pi / 2, 0.0, 0.0, 0.0]\n",
    "node.get_logger().info(\"Moving to home position\")\n",
    "traj = moveit2.move_to_configuration(home_position)\n",
    "if traj is None:\n",
    "    node.get_logger().error(\"Failed to move to home position\")"
   ]
  },
  {
   "cell_type": "code",
   "execution_count": 5,
   "metadata": {},
   "outputs": [
    {
     "name": "stderr",
     "output_type": "stream",
     "text": [
      "[INFO] [1733412880.865178472] [notebook_example]: Moved to home position\n"
     ]
    }
   ],
   "source": [
    "moveit2.execute(traj)\n",
    "success = moveit2.wait_until_executed()\n",
    "if not success:\n",
    "    node.get_logger().error(\"Failed to execute trajectory\")\n",
    "else:\n",
    "    node.get_logger().info(\"Moved to home position\")"
   ]
  },
  {
   "cell_type": "markdown",
   "metadata": {},
   "source": [
    "**Define a Target Pose**    \n",
    "\n",
    "Display the pose"
   ]
  },
  {
   "cell_type": "code",
   "execution_count": 6,
   "metadata": {},
   "outputs": [],
   "source": [
    "target = Pose(\n",
    "    position=Point(x=0.6, y=0.0, z=0.5),\n",
    "    orientation=Quaternion(x=0.0, y=0.7071067811865475, z=0.0, w=0.7071067811865476),\n",
    ")\n",
    "\n",
    "display_poses([target])"
   ]
  },
  {
   "cell_type": "markdown",
   "metadata": {},
   "source": [
    "Plan a trajectory"
   ]
  },
  {
   "cell_type": "code",
   "execution_count": 7,
   "metadata": {},
   "outputs": [
    {
     "name": "stderr",
     "output_type": "stream",
     "text": [
      "[INFO] [1733412887.419219961] [notebook_example]: Moving to {position: [0.6, 0.0, 0.5], quat_xyzw: [0.0, 0.7071067811865475, 0.0, 0.7071067811865476]}\n"
     ]
    }
   ],
   "source": [
    "position = [target.position.x, target.position.y, target.position.z]\n",
    "quat_xyzw = [target.orientation.x, target.orientation.y, target.orientation.z, target.orientation.w]\n",
    "\n",
    "\n",
    "node.get_logger().info(f\"Moving to {{position: {list(position)}, quat_xyzw: {list(quat_xyzw)}}}\")\n",
    "traj = moveit2.plan(\n",
    "    position=position,\n",
    "    quat_xyzw=quat_xyzw,\n",
    "    cartesian=False,\n",
    "    cartesian_fraction_threshold=cartesian_fraction_threshold,\n",
    ")"
   ]
  },
  {
   "cell_type": "markdown",
   "metadata": {},
   "source": [
    "Execute the trajectory"
   ]
  },
  {
   "cell_type": "code",
   "execution_count": 8,
   "metadata": {},
   "outputs": [
    {
     "name": "stderr",
     "output_type": "stream",
     "text": [
      "[WARN] [1733412900.855418126] [notebook_example]: Action 'execute_trajectory' was unsuccessful: 6.\n",
      "[ERROR] [1733412900.880574080] [notebook_example]: Failed to execute trajectory\n"
     ]
    }
   ],
   "source": [
    "moveit2.execute(traj)\n",
    "success = moveit2.wait_until_executed()\n",
    "if not success:\n",
    "    node.get_logger().error(\"Failed to execute trajectory\")"
   ]
  },
  {
   "cell_type": "code",
   "execution_count": null,
   "metadata": {},
   "outputs": [],
   "source": [
    "target0 = Pose(\n",
    "    position=Point(x=0.6, y=-0.3, z=0.5),\n",
    "    orientation=Quaternion(x=0.0, y=0.7071067811865475, z=0.0, w=0.7071067811865476),\n",
    ")\n",
    "target1 = Pose(\n",
    "    position=Point(x=0.6, y=0.3, z=0.5),\n",
    "    orientation=Quaternion(x=0.5, y=0.5, z=0.5, w=0.5),\n",
    ")\n",
    "\n",
    "display_poses([target0, target1])"
   ]
  },
  {
   "cell_type": "code",
   "execution_count": null,
   "metadata": {},
   "outputs": [],
   "source": [
    "targets = [target0, target1]\n",
    "for i, target_pose in enumerate(targets):\n",
    "\n",
    "    position = [target_pose.position.x, target_pose.position.y, target_pose.position.z]\n",
    "    quat_xyzw = [\n",
    "        target_pose.orientation.x,\n",
    "        target_pose.orientation.y,\n",
    "        target_pose.orientation.z,\n",
    "        target_pose.orientation.w,\n",
    "    ]\n",
    "\n",
    "    node.get_logger().info(f\"Moving to target {i} {{position: {list(position)}, quat_xyzw: {list(quat_xyzw)}}}\")\n",
    "    traj = moveit2.move_to_pose(\n",
    "        position=position,\n",
    "        quat_xyzw=quat_xyzw,\n",
    "        cartesian=cartesian,\n",
    "        cartesian_max_step=cartesian_max_step,\n",
    "        cartesian_fraction_threshold=cartesian_fraction_threshold,\n",
    "    )\n",
    "    if traj is not None:\n",
    "        node.get_logger().info(f\"Move to target {i}\")\n",
    "        moveit2.execute(traj)\n",
    "        success = moveit2.wait_until_executed()"
   ]
  },
  {
   "cell_type": "code",
   "execution_count": 7,
   "metadata": {},
   "outputs": [],
   "source": [
    "target_poses = [\n",
    "    Pose(\n",
    "        position=Point(x=0.6, y=0.1, z=0.8),\n",
    "        orientation=Quaternion(x=0.0, y=0.7071067811865475, z=0.0, w=0.7071067811865476),\n",
    "    ),\n",
    "    Pose(\n",
    "        position=Point(x=0.6, y=0.3, z=0.5),\n",
    "        orientation=Quaternion(x=0.5, y=0.5, z=0.5, w=0.5),\n",
    "    ),\n",
    "    Pose(\n",
    "        position=Point(x=0.6, y=-0.3, z=0.5),\n",
    "        orientation=Quaternion(x=0.0, y=0.7071067811865475, z=0.0, w=0.7071067811865476),\n",
    "    ),\n",
    "]\n",
    "\n",
    "display_poses(target_poses)"
   ]
  },
  {
   "cell_type": "code",
   "execution_count": 8,
   "metadata": {},
   "outputs": [
    {
     "name": "stderr",
     "output_type": "stream",
     "text": [
      "[INFO] [1733412119.469049730] [notebook_example]: Sending plan request to action server...\n",
      "[INFO] [1733412119.492267030] [notebook_example]: Planning successful. Returning trajectory.\n"
     ]
    },
    {
     "name": "stderr",
     "output_type": "stream",
     "text": [
      "Exception in thread Thread-4 (spin):\n",
      "Traceback (most recent call last):\n",
      "  File \"/usr/lib/python3.10/threading.py\", line 1016, in _bootstrap_inner\n",
      "    self.run()\n",
      "  File \"/home/huanyu/.local/lib/python3.10/site-packages/ipykernel/ipkernel.py\", line 766, in run_closure\n",
      "    _threading_Thread_run(self)\n",
      "  File \"/usr/lib/python3.10/threading.py\", line 953, in run\n",
      "    self._target(*self._args, **self._kwargs)\n",
      "  File \"/opt/ros/humble/local/lib/python3.10/dist-packages/rclpy/executors.py\", line 294, in spin\n",
      "    self.spin_once()\n",
      "  File \"/opt/ros/humble/local/lib/python3.10/dist-packages/rclpy/executors.py\", line 794, in spin_once\n",
      "    self._spin_once_impl(timeout_sec)\n",
      "  File \"/opt/ros/humble/local/lib/python3.10/dist-packages/rclpy/executors.py\", line 775, in _spin_once_impl\n",
      "    handler, entity, node = self.wait_for_ready_callbacks(\n",
      "  File \"/opt/ros/humble/local/lib/python3.10/dist-packages/rclpy/executors.py\", line 711, in wait_for_ready_callbacks\n",
      "    return next(self._cb_iter)\n",
      "  File \"/opt/ros/humble/local/lib/python3.10/dist-packages/rclpy/executors.py\", line 630, in _wait_for_ready_callbacks\n",
      "    if wt in waitables and wt.is_ready(wait_set):\n",
      "  File \"/opt/ros/humble/local/lib/python3.10/dist-packages/rclpy/action/client.py\", line 231, in is_ready\n",
      "    ready_entities = self._client_handle.is_ready(wait_set)\n",
      "rclpy._rclpy_pybind11.RCLError: Failed to get number of ready entities for action client: wait set index for status subscription is out of bounds, at ./src/rcl_action/action_client.c:623\n"
     ]
    }
   ],
   "source": [
    "traj = moveit2.move_sequence_async(\n",
    "    poses=target_poses,\n",
    "    blend_radius=[0.1, 0.1, 0.0],\n",
    "    pipeline_id=\"pilz_industrial_motion_planner\",\n",
    "    planner_ids=[\"PTP\", \"PTP\", \"PTP\"],\n",
    ")"
   ]
  },
  {
   "cell_type": "code",
   "execution_count": 9,
   "metadata": {},
   "outputs": [],
   "source": [
    "if traj is not None:\n",
    "    moveit2.execute(traj)"
   ]
  }
 ],
 "metadata": {
  "kernelspec": {
   "display_name": "Python 3",
   "language": "python",
   "name": "python3"
  },
  "language_info": {
   "codemirror_mode": {
    "name": "ipython",
    "version": 3
   },
   "file_extension": ".py",
   "mimetype": "text/x-python",
   "name": "python",
   "nbconvert_exporter": "python",
   "pygments_lexer": "ipython3",
   "version": "3.10.12"
  }
 },
 "nbformat": 4,
 "nbformat_minor": 2
}
